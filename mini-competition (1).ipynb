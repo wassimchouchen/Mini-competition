{
 "cells": [
  {
   "cell_type": "markdown",
   "id": "ca9bdd0d",
   "metadata": {
    "_cell_guid": "b1076dfc-b9ad-4769-8c92-a6c4dae69d19",
    "_uuid": "8f2839f25d086af736a60e9eeb907d3b93b6e0e5",
    "papermill": {
     "duration": 0.055855,
     "end_time": "2022-01-28T19:44:59.032125",
     "exception": false,
     "start_time": "2022-01-28T19:44:58.976270",
     "status": "completed"
    },
    "tags": []
   },
   "source": [
    "# Exploring data and Pre-Processing"
   ]
  },
  {
   "cell_type": "markdown",
   "id": "2eab072a",
   "metadata": {
    "papermill": {
     "duration": 0.053315,
     "end_time": "2022-01-28T19:44:59.141883",
     "exception": false,
     "start_time": "2022-01-28T19:44:59.088568",
     "status": "completed"
    },
    "tags": []
   },
   "source": [
    "__import_library__"
   ]
  },
  {
   "cell_type": "code",
   "execution_count": 1,
   "id": "490424be",
   "metadata": {
    "execution": {
     "iopub.execute_input": "2022-01-28T19:44:59.265295Z",
     "iopub.status.busy": "2022-01-28T19:44:59.264467Z",
     "iopub.status.idle": "2022-01-28T19:45:00.378927Z",
     "shell.execute_reply": "2022-01-28T19:45:00.378179Z",
     "shell.execute_reply.started": "2022-01-28T10:49:25.814897Z"
    },
    "papermill": {
     "duration": 1.183721,
     "end_time": "2022-01-28T19:45:00.379103",
     "exception": false,
     "start_time": "2022-01-28T19:44:59.195382",
     "status": "completed"
    },
    "tags": []
   },
   "outputs": [],
   "source": [
    "import numpy as np\n",
    "import pandas as pd \n",
    "import matplotlib.pyplot as plt\n",
    "import matplotlib.style as stl\n",
    "import seaborn as sns"
   ]
  },
  {
   "cell_type": "code",
   "execution_count": 2,
   "id": "f2620b71",
   "metadata": {
    "execution": {
     "iopub.execute_input": "2022-01-28T19:45:00.491739Z",
     "iopub.status.busy": "2022-01-28T19:45:00.491056Z",
     "iopub.status.idle": "2022-01-28T19:45:00.508424Z",
     "shell.execute_reply": "2022-01-28T19:45:00.507824Z",
     "shell.execute_reply.started": "2022-01-28T10:49:25.824903Z"
    },
    "papermill": {
     "duration": 0.075854,
     "end_time": "2022-01-28T19:45:00.508610",
     "exception": false,
     "start_time": "2022-01-28T19:45:00.432756",
     "status": "completed"
    },
    "tags": []
   },
   "outputs": [],
   "source": [
    "Train = pd.read_csv(\"../input/traintest/Train.csv\")   \n"
   ]
  },
  {
   "cell_type": "code",
   "execution_count": 3,
   "id": "be30a74f",
   "metadata": {
    "execution": {
     "iopub.execute_input": "2022-01-28T19:45:00.622443Z",
     "iopub.status.busy": "2022-01-28T19:45:00.621805Z",
     "iopub.status.idle": "2022-01-28T19:45:00.635850Z",
     "shell.execute_reply": "2022-01-28T19:45:00.635259Z",
     "shell.execute_reply.started": "2022-01-28T10:49:25.844595Z"
    },
    "papermill": {
     "duration": 0.072042,
     "end_time": "2022-01-28T19:45:00.636015",
     "exception": false,
     "start_time": "2022-01-28T19:45:00.563973",
     "status": "completed"
    },
    "tags": []
   },
   "outputs": [],
   "source": [
    "Test = pd.read_csv(\"../input/traintest/Test.csv\")"
   ]
  },
  {
   "cell_type": "code",
   "execution_count": 4,
   "id": "dfbc001e",
   "metadata": {
    "execution": {
     "iopub.execute_input": "2022-01-28T19:45:00.751911Z",
     "iopub.status.busy": "2022-01-28T19:45:00.751127Z",
     "iopub.status.idle": "2022-01-28T19:45:00.769929Z",
     "shell.execute_reply": "2022-01-28T19:45:00.770423Z",
     "shell.execute_reply.started": "2022-01-28T10:49:25.858948Z"
    },
    "papermill": {
     "duration": 0.080931,
     "end_time": "2022-01-28T19:45:00.770609",
     "exception": false,
     "start_time": "2022-01-28T19:45:00.689678",
     "status": "completed"
    },
    "tags": []
   },
   "outputs": [
    {
     "data": {
      "text/html": [
       "<div>\n",
       "<style scoped>\n",
       "    .dataframe tbody tr th:only-of-type {\n",
       "        vertical-align: middle;\n",
       "    }\n",
       "\n",
       "    .dataframe tbody tr th {\n",
       "        vertical-align: top;\n",
       "    }\n",
       "\n",
       "    .dataframe thead th {\n",
       "        text-align: right;\n",
       "    }\n",
       "</style>\n",
       "<table border=\"1\" class=\"dataframe\">\n",
       "  <thead>\n",
       "    <tr style=\"text-align: right;\">\n",
       "      <th></th>\n",
       "      <th>ID</th>\n",
       "      <th>Espèce</th>\n",
       "      <th>LongueurVer</th>\n",
       "      <th>LongueurDia</th>\n",
       "      <th>LongueurCro</th>\n",
       "      <th>Hauteur</th>\n",
       "      <th>Largeur</th>\n",
       "      <th>Poids</th>\n",
       "    </tr>\n",
       "  </thead>\n",
       "  <tbody>\n",
       "    <tr>\n",
       "      <th>0</th>\n",
       "      <td>hAmkM80XrB</td>\n",
       "      <td>Dorade</td>\n",
       "      <td>30.9</td>\n",
       "      <td>33.5</td>\n",
       "      <td>38.6</td>\n",
       "      <td>15.6330</td>\n",
       "      <td>5.1338</td>\n",
       "      <td>610.0</td>\n",
       "    </tr>\n",
       "    <tr>\n",
       "      <th>1</th>\n",
       "      <td>j5tRKxc3P4</td>\n",
       "      <td>Éperlan</td>\n",
       "      <td>9.3</td>\n",
       "      <td>9.8</td>\n",
       "      <td>10.8</td>\n",
       "      <td>1.7388</td>\n",
       "      <td>1.0476</td>\n",
       "      <td>6.7</td>\n",
       "    </tr>\n",
       "    <tr>\n",
       "      <th>2</th>\n",
       "      <td>w2M3CLts3v</td>\n",
       "      <td>Brochet</td>\n",
       "      <td>48.3</td>\n",
       "      <td>51.7</td>\n",
       "      <td>55.1</td>\n",
       "      <td>8.9262</td>\n",
       "      <td>6.1712</td>\n",
       "      <td>950.0</td>\n",
       "    </tr>\n",
       "    <tr>\n",
       "      <th>3</th>\n",
       "      <td>9XCIhKuBo3</td>\n",
       "      <td>Gardon</td>\n",
       "      <td>17.5</td>\n",
       "      <td>18.8</td>\n",
       "      <td>21.2</td>\n",
       "      <td>5.5756</td>\n",
       "      <td>2.9044</td>\n",
       "      <td>78.0</td>\n",
       "    </tr>\n",
       "    <tr>\n",
       "      <th>4</th>\n",
       "      <td>xb0n1Eyv8Y</td>\n",
       "      <td>Perche</td>\n",
       "      <td>19.0</td>\n",
       "      <td>21.0</td>\n",
       "      <td>22.5</td>\n",
       "      <td>5.6925</td>\n",
       "      <td>3.5550</td>\n",
       "      <td>110.0</td>\n",
       "    </tr>\n",
       "  </tbody>\n",
       "</table>\n",
       "</div>"
      ],
      "text/plain": [
       "           ID   Espèce  LongueurVer  LongueurDia  LongueurCro  Hauteur  \\\n",
       "0  hAmkM80XrB   Dorade         30.9         33.5         38.6  15.6330   \n",
       "1  j5tRKxc3P4  Éperlan          9.3          9.8         10.8   1.7388   \n",
       "2  w2M3CLts3v  Brochet         48.3         51.7         55.1   8.9262   \n",
       "3  9XCIhKuBo3   Gardon         17.5         18.8         21.2   5.5756   \n",
       "4  xb0n1Eyv8Y   Perche         19.0         21.0         22.5   5.6925   \n",
       "\n",
       "   Largeur  Poids  \n",
       "0   5.1338  610.0  \n",
       "1   1.0476    6.7  \n",
       "2   6.1712  950.0  \n",
       "3   2.9044   78.0  \n",
       "4   3.5550  110.0  "
      ]
     },
     "execution_count": 4,
     "metadata": {},
     "output_type": "execute_result"
    }
   ],
   "source": [
    "Train.head()"
   ]
  },
  {
   "cell_type": "code",
   "execution_count": 5,
   "id": "fb63a5c3",
   "metadata": {
    "execution": {
     "iopub.execute_input": "2022-01-28T19:45:00.883076Z",
     "iopub.status.busy": "2022-01-28T19:45:00.882354Z",
     "iopub.status.idle": "2022-01-28T19:45:00.895688Z",
     "shell.execute_reply": "2022-01-28T19:45:00.896196Z",
     "shell.execute_reply.started": "2022-01-28T10:49:25.876553Z"
    },
    "papermill": {
     "duration": 0.070943,
     "end_time": "2022-01-28T19:45:00.896374",
     "exception": false,
     "start_time": "2022-01-28T19:45:00.825431",
     "status": "completed"
    },
    "tags": []
   },
   "outputs": [
    {
     "data": {
      "text/html": [
       "<div>\n",
       "<style scoped>\n",
       "    .dataframe tbody tr th:only-of-type {\n",
       "        vertical-align: middle;\n",
       "    }\n",
       "\n",
       "    .dataframe tbody tr th {\n",
       "        vertical-align: top;\n",
       "    }\n",
       "\n",
       "    .dataframe thead th {\n",
       "        text-align: right;\n",
       "    }\n",
       "</style>\n",
       "<table border=\"1\" class=\"dataframe\">\n",
       "  <thead>\n",
       "    <tr style=\"text-align: right;\">\n",
       "      <th></th>\n",
       "      <th>ID</th>\n",
       "      <th>Espèce</th>\n",
       "      <th>LongueurVer</th>\n",
       "      <th>LongueurDia</th>\n",
       "      <th>LongueurCro</th>\n",
       "      <th>Hauteur</th>\n",
       "      <th>Largeur</th>\n",
       "    </tr>\n",
       "  </thead>\n",
       "  <tbody>\n",
       "    <tr>\n",
       "      <th>0</th>\n",
       "      <td>5gLYcjsz9z</td>\n",
       "      <td>Perche</td>\n",
       "      <td>23.5</td>\n",
       "      <td>25.6</td>\n",
       "      <td>27.0</td>\n",
       "      <td>6.5610</td>\n",
       "      <td>4.2390</td>\n",
       "    </tr>\n",
       "    <tr>\n",
       "      <th>1</th>\n",
       "      <td>j0rBCrMwYa</td>\n",
       "      <td>Dorade</td>\n",
       "      <td>31.8</td>\n",
       "      <td>35.0</td>\n",
       "      <td>40.6</td>\n",
       "      <td>15.4686</td>\n",
       "      <td>6.1306</td>\n",
       "    </tr>\n",
       "    <tr>\n",
       "      <th>2</th>\n",
       "      <td>GI72jxWh7u</td>\n",
       "      <td>Perche</td>\n",
       "      <td>25.0</td>\n",
       "      <td>26.5</td>\n",
       "      <td>28.0</td>\n",
       "      <td>7.1680</td>\n",
       "      <td>4.1440</td>\n",
       "    </tr>\n",
       "    <tr>\n",
       "      <th>3</th>\n",
       "      <td>YJNyDH3z1V</td>\n",
       "      <td>Brochet</td>\n",
       "      <td>30.0</td>\n",
       "      <td>32.3</td>\n",
       "      <td>34.8</td>\n",
       "      <td>5.5680</td>\n",
       "      <td>3.3756</td>\n",
       "    </tr>\n",
       "    <tr>\n",
       "      <th>4</th>\n",
       "      <td>y98GtegfKY</td>\n",
       "      <td>Perche</td>\n",
       "      <td>20.0</td>\n",
       "      <td>22.0</td>\n",
       "      <td>23.5</td>\n",
       "      <td>5.6400</td>\n",
       "      <td>3.5250</td>\n",
       "    </tr>\n",
       "  </tbody>\n",
       "</table>\n",
       "</div>"
      ],
      "text/plain": [
       "           ID   Espèce  LongueurVer  LongueurDia  LongueurCro  Hauteur  \\\n",
       "0  5gLYcjsz9z   Perche         23.5         25.6         27.0   6.5610   \n",
       "1  j0rBCrMwYa   Dorade         31.8         35.0         40.6  15.4686   \n",
       "2  GI72jxWh7u   Perche         25.0         26.5         28.0   7.1680   \n",
       "3  YJNyDH3z1V  Brochet         30.0         32.3         34.8   5.5680   \n",
       "4  y98GtegfKY   Perche         20.0         22.0         23.5   5.6400   \n",
       "\n",
       "   Largeur  \n",
       "0   4.2390  \n",
       "1   6.1306  \n",
       "2   4.1440  \n",
       "3   3.3756  \n",
       "4   3.5250  "
      ]
     },
     "execution_count": 5,
     "metadata": {},
     "output_type": "execute_result"
    }
   ],
   "source": [
    "Test.head()"
   ]
  },
  {
   "cell_type": "markdown",
   "id": "92d89b8c",
   "metadata": {
    "papermill": {
     "duration": 0.058001,
     "end_time": "2022-01-28T19:45:01.011885",
     "exception": false,
     "start_time": "2022-01-28T19:45:00.953884",
     "status": "completed"
    },
    "tags": []
   },
   "source": [
    "here we can see some info about the data and it's type"
   ]
  },
  {
   "cell_type": "code",
   "execution_count": 6,
   "id": "6246e4ad",
   "metadata": {
    "execution": {
     "iopub.execute_input": "2022-01-28T19:45:01.134995Z",
     "iopub.status.busy": "2022-01-28T19:45:01.134329Z",
     "iopub.status.idle": "2022-01-28T19:45:01.157242Z",
     "shell.execute_reply": "2022-01-28T19:45:01.157986Z",
     "shell.execute_reply.started": "2022-01-28T10:49:25.894675Z"
    },
    "papermill": {
     "duration": 0.081156,
     "end_time": "2022-01-28T19:45:01.158229",
     "exception": false,
     "start_time": "2022-01-28T19:45:01.077073",
     "status": "completed"
    },
    "tags": []
   },
   "outputs": [
    {
     "name": "stdout",
     "output_type": "stream",
     "text": [
      "<class 'pandas.core.frame.DataFrame'>\n",
      "RangeIndex: 123 entries, 0 to 122\n",
      "Data columns (total 8 columns):\n",
      " #   Column       Non-Null Count  Dtype  \n",
      "---  ------       --------------  -----  \n",
      " 0   ID           123 non-null    object \n",
      " 1   Espèce       123 non-null    object \n",
      " 2   LongueurVer  122 non-null    float64\n",
      " 3   LongueurDia  121 non-null    float64\n",
      " 4   LongueurCro  123 non-null    float64\n",
      " 5   Hauteur      122 non-null    float64\n",
      " 6   Largeur      122 non-null    float64\n",
      " 7   Poids        123 non-null    float64\n",
      "dtypes: float64(6), object(2)\n",
      "memory usage: 7.8+ KB\n"
     ]
    }
   ],
   "source": [
    "Train.info()"
   ]
  },
  {
   "cell_type": "markdown",
   "id": "9def07b3",
   "metadata": {
    "papermill": {
     "duration": 0.05596,
     "end_time": "2022-01-28T19:45:01.269998",
     "exception": false,
     "start_time": "2022-01-28T19:45:01.214038",
     "status": "completed"
    },
    "tags": []
   },
   "source": [
    "some statistical insights about the data"
   ]
  },
  {
   "cell_type": "code",
   "execution_count": 7,
   "id": "336e9c01",
   "metadata": {
    "execution": {
     "iopub.execute_input": "2022-01-28T19:45:01.389816Z",
     "iopub.status.busy": "2022-01-28T19:45:01.389067Z",
     "iopub.status.idle": "2022-01-28T19:45:01.412804Z",
     "shell.execute_reply": "2022-01-28T19:45:01.413316Z",
     "shell.execute_reply.started": "2022-01-28T10:49:25.908358Z"
    },
    "papermill": {
     "duration": 0.088396,
     "end_time": "2022-01-28T19:45:01.413492",
     "exception": false,
     "start_time": "2022-01-28T19:45:01.325096",
     "status": "completed"
    },
    "tags": []
   },
   "outputs": [
    {
     "data": {
      "text/html": [
       "<div>\n",
       "<style scoped>\n",
       "    .dataframe tbody tr th:only-of-type {\n",
       "        vertical-align: middle;\n",
       "    }\n",
       "\n",
       "    .dataframe tbody tr th {\n",
       "        vertical-align: top;\n",
       "    }\n",
       "\n",
       "    .dataframe thead th {\n",
       "        text-align: right;\n",
       "    }\n",
       "</style>\n",
       "<table border=\"1\" class=\"dataframe\">\n",
       "  <thead>\n",
       "    <tr style=\"text-align: right;\">\n",
       "      <th></th>\n",
       "      <th>LongueurVer</th>\n",
       "      <th>LongueurDia</th>\n",
       "      <th>LongueurCro</th>\n",
       "      <th>Hauteur</th>\n",
       "      <th>Largeur</th>\n",
       "      <th>Poids</th>\n",
       "    </tr>\n",
       "  </thead>\n",
       "  <tbody>\n",
       "    <tr>\n",
       "      <th>count</th>\n",
       "      <td>122.000000</td>\n",
       "      <td>121.000000</td>\n",
       "      <td>123.000000</td>\n",
       "      <td>122.000000</td>\n",
       "      <td>122.000000</td>\n",
       "      <td>123.000000</td>\n",
       "    </tr>\n",
       "    <tr>\n",
       "      <th>mean</th>\n",
       "      <td>26.082787</td>\n",
       "      <td>28.566942</td>\n",
       "      <td>31.351220</td>\n",
       "      <td>8.800984</td>\n",
       "      <td>4.392384</td>\n",
       "      <td>402.913008</td>\n",
       "    </tr>\n",
       "    <tr>\n",
       "      <th>std</th>\n",
       "      <td>10.968405</td>\n",
       "      <td>11.497763</td>\n",
       "      <td>12.669231</td>\n",
       "      <td>4.225893</td>\n",
       "      <td>1.765300</td>\n",
       "      <td>374.588150</td>\n",
       "    </tr>\n",
       "    <tr>\n",
       "      <th>min</th>\n",
       "      <td>0.000000</td>\n",
       "      <td>8.400000</td>\n",
       "      <td>0.000000</td>\n",
       "      <td>1.728400</td>\n",
       "      <td>0.000000</td>\n",
       "      <td>5.700000</td>\n",
       "    </tr>\n",
       "    <tr>\n",
       "      <th>25%</th>\n",
       "      <td>19.000000</td>\n",
       "      <td>21.000000</td>\n",
       "      <td>22.650000</td>\n",
       "      <td>5.992400</td>\n",
       "      <td>3.399375</td>\n",
       "      <td>120.000000</td>\n",
       "    </tr>\n",
       "    <tr>\n",
       "      <th>50%</th>\n",
       "      <td>24.000000</td>\n",
       "      <td>26.500000</td>\n",
       "      <td>29.300000</td>\n",
       "      <td>7.806200</td>\n",
       "      <td>4.277050</td>\n",
       "      <td>273.000000</td>\n",
       "    </tr>\n",
       "    <tr>\n",
       "      <th>75%</th>\n",
       "      <td>33.650000</td>\n",
       "      <td>36.500000</td>\n",
       "      <td>40.950000</td>\n",
       "      <td>11.931750</td>\n",
       "      <td>5.783625</td>\n",
       "      <td>605.000000</td>\n",
       "    </tr>\n",
       "    <tr>\n",
       "      <th>max</th>\n",
       "      <td>59.000000</td>\n",
       "      <td>63.400000</td>\n",
       "      <td>68.000000</td>\n",
       "      <td>18.957000</td>\n",
       "      <td>8.142000</td>\n",
       "      <td>1650.000000</td>\n",
       "    </tr>\n",
       "  </tbody>\n",
       "</table>\n",
       "</div>"
      ],
      "text/plain": [
       "       LongueurVer  LongueurDia  LongueurCro     Hauteur     Largeur  \\\n",
       "count   122.000000   121.000000   123.000000  122.000000  122.000000   \n",
       "mean     26.082787    28.566942    31.351220    8.800984    4.392384   \n",
       "std      10.968405    11.497763    12.669231    4.225893    1.765300   \n",
       "min       0.000000     8.400000     0.000000    1.728400    0.000000   \n",
       "25%      19.000000    21.000000    22.650000    5.992400    3.399375   \n",
       "50%      24.000000    26.500000    29.300000    7.806200    4.277050   \n",
       "75%      33.650000    36.500000    40.950000   11.931750    5.783625   \n",
       "max      59.000000    63.400000    68.000000   18.957000    8.142000   \n",
       "\n",
       "             Poids  \n",
       "count   123.000000  \n",
       "mean    402.913008  \n",
       "std     374.588150  \n",
       "min       5.700000  \n",
       "25%     120.000000  \n",
       "50%     273.000000  \n",
       "75%     605.000000  \n",
       "max    1650.000000  "
      ]
     },
     "execution_count": 7,
     "metadata": {},
     "output_type": "execute_result"
    }
   ],
   "source": [
    "Train.describe()"
   ]
  },
  {
   "cell_type": "code",
   "execution_count": 8,
   "id": "d37bdf88",
   "metadata": {
    "execution": {
     "iopub.execute_input": "2022-01-28T19:45:01.531199Z",
     "iopub.status.busy": "2022-01-28T19:45:01.530151Z",
     "iopub.status.idle": "2022-01-28T19:45:01.535421Z",
     "shell.execute_reply": "2022-01-28T19:45:01.535919Z",
     "shell.execute_reply.started": "2022-01-28T10:49:25.937041Z"
    },
    "papermill": {
     "duration": 0.065842,
     "end_time": "2022-01-28T19:45:01.536101",
     "exception": false,
     "start_time": "2022-01-28T19:45:01.470259",
     "status": "completed"
    },
    "tags": []
   },
   "outputs": [
    {
     "data": {
      "text/plain": [
       "(123, 8)"
      ]
     },
     "execution_count": 8,
     "metadata": {},
     "output_type": "execute_result"
    }
   ],
   "source": [
    "Train.shape"
   ]
  },
  {
   "cell_type": "markdown",
   "id": "90e773d7",
   "metadata": {
    "papermill": {
     "duration": 0.05583,
     "end_time": "2022-01-28T19:45:01.647921",
     "exception": false,
     "start_time": "2022-01-28T19:45:01.592091",
     "status": "completed"
    },
    "tags": []
   },
   "source": [
    "we notice that the \"ID\" column is not necessary for our model so we choose to drop it"
   ]
  },
  {
   "cell_type": "code",
   "execution_count": 9,
   "id": "cc5919cd",
   "metadata": {
    "execution": {
     "iopub.execute_input": "2022-01-28T19:45:01.767178Z",
     "iopub.status.busy": "2022-01-28T19:45:01.766309Z",
     "iopub.status.idle": "2022-01-28T19:45:01.769419Z",
     "shell.execute_reply": "2022-01-28T19:45:01.768755Z",
     "shell.execute_reply.started": "2022-01-28T10:49:25.945009Z"
    },
    "papermill": {
     "duration": 0.065526,
     "end_time": "2022-01-28T19:45:01.769586",
     "exception": false,
     "start_time": "2022-01-28T19:45:01.704060",
     "status": "completed"
    },
    "tags": []
   },
   "outputs": [],
   "source": [
    "Train=Train.drop(\"ID\", axis=1)"
   ]
  },
  {
   "cell_type": "markdown",
   "id": "07ce5830",
   "metadata": {
    "papermill": {
     "duration": 0.055865,
     "end_time": "2022-01-28T19:45:01.881679",
     "exception": false,
     "start_time": "2022-01-28T19:45:01.825814",
     "status": "completed"
    },
    "tags": []
   },
   "source": [
    "# Visualization of data"
   ]
  },
  {
   "cell_type": "code",
   "execution_count": 10,
   "id": "c57ae37c",
   "metadata": {
    "execution": {
     "iopub.execute_input": "2022-01-28T19:45:02.001397Z",
     "iopub.status.busy": "2022-01-28T19:45:02.000489Z",
     "iopub.status.idle": "2022-01-28T19:45:02.003858Z",
     "shell.execute_reply": "2022-01-28T19:45:02.004353Z",
     "shell.execute_reply.started": "2022-01-28T10:49:25.95733Z"
    },
    "papermill": {
     "duration": 0.066682,
     "end_time": "2022-01-28T19:45:02.004528",
     "exception": false,
     "start_time": "2022-01-28T19:45:01.937846",
     "status": "completed"
    },
    "tags": []
   },
   "outputs": [
    {
     "data": {
      "text/plain": [
       "['Solarize_Light2',\n",
       " '_classic_test_patch',\n",
       " '_mpl-gallery',\n",
       " '_mpl-gallery-nogrid',\n",
       " 'bmh',\n",
       " 'classic',\n",
       " 'dark_background',\n",
       " 'fast',\n",
       " 'fivethirtyeight',\n",
       " 'ggplot',\n",
       " 'grayscale',\n",
       " 'seaborn',\n",
       " 'seaborn-bright',\n",
       " 'seaborn-colorblind',\n",
       " 'seaborn-dark',\n",
       " 'seaborn-dark-palette',\n",
       " 'seaborn-darkgrid',\n",
       " 'seaborn-deep',\n",
       " 'seaborn-muted',\n",
       " 'seaborn-notebook',\n",
       " 'seaborn-paper',\n",
       " 'seaborn-pastel',\n",
       " 'seaborn-poster',\n",
       " 'seaborn-talk',\n",
       " 'seaborn-ticks',\n",
       " 'seaborn-white',\n",
       " 'seaborn-whitegrid',\n",
       " 'tableau-colorblind10']"
      ]
     },
     "execution_count": 10,
     "metadata": {},
     "output_type": "execute_result"
    }
   ],
   "source": [
    "stl.available"
   ]
  },
  {
   "cell_type": "code",
   "execution_count": 11,
   "id": "c7fc11f1",
   "metadata": {
    "execution": {
     "iopub.execute_input": "2022-01-28T19:45:02.123914Z",
     "iopub.status.busy": "2022-01-28T19:45:02.122839Z",
     "iopub.status.idle": "2022-01-28T19:45:02.124983Z",
     "shell.execute_reply": "2022-01-28T19:45:02.125560Z",
     "shell.execute_reply.started": "2022-01-28T10:49:25.969901Z"
    },
    "papermill": {
     "duration": 0.064062,
     "end_time": "2022-01-28T19:45:02.125736",
     "exception": false,
     "start_time": "2022-01-28T19:45:02.061674",
     "status": "completed"
    },
    "tags": []
   },
   "outputs": [],
   "source": [
    "stl.use('ggplot')"
   ]
  },
  {
   "cell_type": "markdown",
   "id": "fba460b8",
   "metadata": {
    "papermill": {
     "duration": 0.055753,
     "end_time": "2022-01-28T19:45:02.238209",
     "exception": false,
     "start_time": "2022-01-28T19:45:02.182456",
     "status": "completed"
    },
    "tags": []
   },
   "source": [
    "__General insights about numerical data__"
   ]
  },
  {
   "cell_type": "code",
   "execution_count": 12,
   "id": "af743c93",
   "metadata": {
    "execution": {
     "iopub.execute_input": "2022-01-28T19:45:02.354394Z",
     "iopub.status.busy": "2022-01-28T19:45:02.353762Z",
     "iopub.status.idle": "2022-01-28T19:45:02.367741Z",
     "shell.execute_reply": "2022-01-28T19:45:02.368249Z",
     "shell.execute_reply.started": "2022-01-28T10:49:25.980627Z"
    },
    "papermill": {
     "duration": 0.073211,
     "end_time": "2022-01-28T19:45:02.368418",
     "exception": false,
     "start_time": "2022-01-28T19:45:02.295207",
     "status": "completed"
    },
    "tags": []
   },
   "outputs": [
    {
     "data": {
      "text/html": [
       "<div>\n",
       "<style scoped>\n",
       "    .dataframe tbody tr th:only-of-type {\n",
       "        vertical-align: middle;\n",
       "    }\n",
       "\n",
       "    .dataframe tbody tr th {\n",
       "        vertical-align: top;\n",
       "    }\n",
       "\n",
       "    .dataframe thead th {\n",
       "        text-align: right;\n",
       "    }\n",
       "</style>\n",
       "<table border=\"1\" class=\"dataframe\">\n",
       "  <thead>\n",
       "    <tr style=\"text-align: right;\">\n",
       "      <th></th>\n",
       "      <th>Espèce</th>\n",
       "      <th>LongueurVer</th>\n",
       "      <th>LongueurDia</th>\n",
       "      <th>LongueurCro</th>\n",
       "      <th>Hauteur</th>\n",
       "      <th>Largeur</th>\n",
       "      <th>Poids</th>\n",
       "    </tr>\n",
       "  </thead>\n",
       "  <tbody>\n",
       "    <tr>\n",
       "      <th>0</th>\n",
       "      <td>Dorade</td>\n",
       "      <td>30.9</td>\n",
       "      <td>33.5</td>\n",
       "      <td>38.6</td>\n",
       "      <td>15.6330</td>\n",
       "      <td>5.1338</td>\n",
       "      <td>610.0</td>\n",
       "    </tr>\n",
       "    <tr>\n",
       "      <th>1</th>\n",
       "      <td>Éperlan</td>\n",
       "      <td>9.3</td>\n",
       "      <td>9.8</td>\n",
       "      <td>10.8</td>\n",
       "      <td>1.7388</td>\n",
       "      <td>1.0476</td>\n",
       "      <td>6.7</td>\n",
       "    </tr>\n",
       "    <tr>\n",
       "      <th>2</th>\n",
       "      <td>Brochet</td>\n",
       "      <td>48.3</td>\n",
       "      <td>51.7</td>\n",
       "      <td>55.1</td>\n",
       "      <td>8.9262</td>\n",
       "      <td>6.1712</td>\n",
       "      <td>950.0</td>\n",
       "    </tr>\n",
       "    <tr>\n",
       "      <th>3</th>\n",
       "      <td>Gardon</td>\n",
       "      <td>17.5</td>\n",
       "      <td>18.8</td>\n",
       "      <td>21.2</td>\n",
       "      <td>5.5756</td>\n",
       "      <td>2.9044</td>\n",
       "      <td>78.0</td>\n",
       "    </tr>\n",
       "    <tr>\n",
       "      <th>4</th>\n",
       "      <td>Perche</td>\n",
       "      <td>19.0</td>\n",
       "      <td>21.0</td>\n",
       "      <td>22.5</td>\n",
       "      <td>5.6925</td>\n",
       "      <td>3.5550</td>\n",
       "      <td>110.0</td>\n",
       "    </tr>\n",
       "  </tbody>\n",
       "</table>\n",
       "</div>"
      ],
      "text/plain": [
       "    Espèce  LongueurVer  LongueurDia  LongueurCro  Hauteur  Largeur  Poids\n",
       "0   Dorade         30.9         33.5         38.6  15.6330   5.1338  610.0\n",
       "1  Éperlan          9.3          9.8         10.8   1.7388   1.0476    6.7\n",
       "2  Brochet         48.3         51.7         55.1   8.9262   6.1712  950.0\n",
       "3   Gardon         17.5         18.8         21.2   5.5756   2.9044   78.0\n",
       "4   Perche         19.0         21.0         22.5   5.6925   3.5550  110.0"
      ]
     },
     "execution_count": 12,
     "metadata": {},
     "output_type": "execute_result"
    }
   ],
   "source": [
    "Train.head()"
   ]
  },
  {
   "cell_type": "code",
   "execution_count": 13,
   "id": "676f7276",
   "metadata": {
    "execution": {
     "iopub.execute_input": "2022-01-28T19:45:02.485064Z",
     "iopub.status.busy": "2022-01-28T19:45:02.484418Z",
     "iopub.status.idle": "2022-01-28T19:45:05.306758Z",
     "shell.execute_reply": "2022-01-28T19:45:05.306152Z",
     "shell.execute_reply.started": "2022-01-28T10:49:26.003938Z"
    },
    "papermill": {
     "duration": 2.881597,
     "end_time": "2022-01-28T19:45:05.306912",
     "exception": false,
     "start_time": "2022-01-28T19:45:02.425315",
     "status": "completed"
    },
    "tags": []
   },
   "outputs": [
    {
     "data": {
      "image/png": "[encoded data removed]",
      "text/plain": [
       "<Figure size 864x432 with 1 Axes>"
      ]
     },
     "metadata": {},
     "output_type": "display_data"
    },
    {
     "data": {
      "image/png": "[encoded data removed]",
      "text/plain": [
       "<Figure size 864x432 with 1 Axes>"
      ]
     },
     "metadata": {},
     "output_type": "display_data"
    },
    {
     "data": {
      "image/png": "[encoded data removed]",
      "text/plain": [
       "<Figure size 864x432 with 1 Axes>"
      ]
     },
     "metadata": {},
     "output_type": "display_data"
    },
    {
     "data": {
      "image/png": "[encoded data removed]",
      "text/plain": [
       "<Figure size 864x432 with 1 Axes>"
      ]
     },
     "metadata": {},
     "output_type": "display_data"
    },
    {
     "data": {
      "image/png": "[encoded data removed]",
      "text/plain": [
       "<Figure size 864x432 with 1 Axes>"
      ]
     },
     "metadata": {},
     "output_type": "display_data"
    },
    {
     "data": {
      "image/png": "[encoded data removed]",
      "text/plain": [
       "<Figure size 864x432 with 1 Axes>"
      ]
     },
     "metadata": {},
     "output_type": "display_data"
    },
    {
     "data": {
      "image/png": "[encoded data removed]",
      "text/plain": [
       "<Figure size 864x432 with 1 Axes>"
      ]
     },
     "metadata": {},
     "output_type": "display_data"
    },
    {
     "data": {
      "image/png": "[encoded data removed]",
      "text/plain": [
       "<Figure size 864x432 with 1 Axes>"
      ]
     },
     "metadata": {},
     "output_type": "display_data"
    },
    {
     "data": {
      "image/png": "[encoded data removed]",
      "text/plain": [
       "<Figure size 864x432 with 1 Axes>"
      ]
     },
     "metadata": {},
     "output_type": "display_data"
    },
    {
     "data": {
      "image/png": "[encoded data removed]",
      "text/plain": [
       "<Figure size 864x432 with 1 Axes>"
      ]
     },
     "metadata": {},
     "output_type": "display_data"
    },
    {
     "data": {
      "image/png": "[encoded data removed]",
      "text/plain": [
       "<Figure size 864x432 with 1 Axes>"
      ]
     },
     "metadata": {},
     "output_type": "display_data"
    }
   ],
   "source": [
    "numerical=[\"LongueurVer\",\"LongueurDia\",\"LongueurCro\",\"Hauteur\",\"Largeur\",\"Poids\"]\n",
    "numericalt=[\"LongueurVer\",\"LongueurDia\",\"LongueurCro\",\"Hauteur\",\"Largeur\"]\n",
    "for col in numerical:\n",
    "    plt.figure(figsize=(12,6))\n",
    "    sns.histplot(Train[col], color=\"m\")\n",
    "    plt.show\n",
    "for col in numericalt:\n",
    "    plt.figure(figsize=(12,6))\n",
    "    sns.histplot(Test[col], color=\"m\")\n",
    "    plt.show"
   ]
  },
  {
   "cell_type": "markdown",
   "id": "0eff0c99",
   "metadata": {
    "papermill": {
     "duration": 0.064455,
     "end_time": "2022-01-28T19:45:05.436153",
     "exception": false,
     "start_time": "2022-01-28T19:45:05.371698",
     "status": "completed"
    },
    "tags": []
   },
   "source": [
    "we notice that there is outliers in the column \"Largeur\""
   ]
  },
  {
   "cell_type": "code",
   "execution_count": 14,
   "id": "4c8c0a8e",
   "metadata": {
    "execution": {
     "iopub.execute_input": "2022-01-28T19:45:05.591382Z",
     "iopub.status.busy": "2022-01-28T19:45:05.588391Z",
     "iopub.status.idle": "2022-01-28T19:45:05.841221Z",
     "shell.execute_reply": "2022-01-28T19:45:05.841765Z",
     "shell.execute_reply.started": "2022-01-28T10:49:28.622145Z"
    },
    "papermill": {
     "duration": 0.341188,
     "end_time": "2022-01-28T19:45:05.841940",
     "exception": false,
     "start_time": "2022-01-28T19:45:05.500752",
     "status": "completed"
    },
    "tags": []
   },
   "outputs": [
    {
     "data": {
      "text/plain": [
       "<function matplotlib.pyplot.show(close=None, block=None)>"
      ]
     },
     "execution_count": 14,
     "metadata": {},
     "output_type": "execute_result"
    },
    {
     "data": {
      "image/png": "[encoded data removed]",
      "text/plain": [
       "<Figure size 864x432 with 1 Axes>"
      ]
     },
     "metadata": {},
     "output_type": "display_data"
    }
   ],
   "source": [
    "plt.figure(figsize=(12,6))\n",
    "sns.histplot(Train[\"Largeur\"], color=\"m\")\n",
    "plt.show"
   ]
  },
  {
   "cell_type": "markdown",
   "id": "197c41ce",
   "metadata": {
    "papermill": {
     "duration": 0.065416,
     "end_time": "2022-01-28T19:45:05.973144",
     "exception": false,
     "start_time": "2022-01-28T19:45:05.907728",
     "status": "completed"
    },
    "tags": []
   },
   "source": [
    "also we notice that there is outliers in \"Poids\" column"
   ]
  },
  {
   "cell_type": "code",
   "execution_count": 15,
   "id": "3e87a9c1",
   "metadata": {
    "execution": {
     "iopub.execute_input": "2022-01-28T19:45:06.119096Z",
     "iopub.status.busy": "2022-01-28T19:45:06.118412Z",
     "iopub.status.idle": "2022-01-28T19:45:06.367101Z",
     "shell.execute_reply": "2022-01-28T19:45:06.366575Z",
     "shell.execute_reply.started": "2022-01-28T10:49:28.89479Z"
    },
    "papermill": {
     "duration": 0.328306,
     "end_time": "2022-01-28T19:45:06.367247",
     "exception": false,
     "start_time": "2022-01-28T19:45:06.038941",
     "status": "completed"
    },
    "tags": []
   },
   "outputs": [
    {
     "data": {
      "text/plain": [
       "<function matplotlib.pyplot.show(close=None, block=None)>"
      ]
     },
     "execution_count": 15,
     "metadata": {},
     "output_type": "execute_result"
    },
    {
     "data": {
      "image/png": "[encoded data removed]",
      "text/plain": [
       "<Figure size 864x432 with 1 Axes>"
      ]
     },
     "metadata": {},
     "output_type": "display_data"
    }
   ],
   "source": [
    "plt.figure(figsize=(12,6))\n",
    "sns.histplot(Train[\"Poids\"], color=\"m\")\n",
    "plt.show"
   ]
  },
  {
   "cell_type": "code",
   "execution_count": 16,
   "id": "0d24b3c4",
   "metadata": {
    "execution": {
     "iopub.execute_input": "2022-01-28T19:45:06.524393Z",
     "iopub.status.busy": "2022-01-28T19:45:06.523684Z",
     "iopub.status.idle": "2022-01-28T19:45:06.527256Z",
     "shell.execute_reply": "2022-01-28T19:45:06.526371Z",
     "shell.execute_reply.started": "2022-01-28T10:49:29.148737Z"
    },
    "papermill": {
     "duration": 0.092941,
     "end_time": "2022-01-28T19:45:06.527443",
     "exception": false,
     "start_time": "2022-01-28T19:45:06.434502",
     "status": "completed"
    },
    "tags": []
   },
   "outputs": [
    {
     "name": "stdout",
     "output_type": "stream",
     "text": [
      "53\n",
      "83\n"
     ]
    }
   ],
   "source": [
    "for i in range(123):\n",
    "    if (Train.iloc[i]['Poids'] > 1100 )and (Train.iloc[i]['Poids'] <1600 ):\n",
    "         print(i)"
   ]
  },
  {
   "cell_type": "markdown",
   "id": "c286b40f",
   "metadata": {
    "papermill": {
     "duration": 0.066913,
     "end_time": "2022-01-28T19:45:06.663099",
     "exception": false,
     "start_time": "2022-01-28T19:45:06.596186",
     "status": "completed"
    },
    "tags": []
   },
   "source": [
    "__Visualization of categorical data__"
   ]
  },
  {
   "cell_type": "code",
   "execution_count": 17,
   "id": "1dab2be3",
   "metadata": {
    "execution": {
     "iopub.execute_input": "2022-01-28T19:45:06.803819Z",
     "iopub.status.busy": "2022-01-28T19:45:06.803104Z",
     "iopub.status.idle": "2022-01-28T19:45:07.039826Z",
     "shell.execute_reply": "2022-01-28T19:45:07.040300Z",
     "shell.execute_reply.started": "2022-01-28T10:49:29.173974Z"
    },
    "papermill": {
     "duration": 0.309556,
     "end_time": "2022-01-28T19:45:07.040483",
     "exception": false,
     "start_time": "2022-01-28T19:45:06.730927",
     "status": "completed"
    },
    "tags": []
   },
   "outputs": [
    {
     "data": {
      "text/plain": [
       "<function matplotlib.pyplot.show(close=None, block=None)>"
      ]
     },
     "execution_count": 17,
     "metadata": {},
     "output_type": "execute_result"
    },
    {
     "data": {
      "image/png": "[encoded data removed]",
      "text/plain": [
       "<Figure size 864x432 with 1 Axes>"
      ]
     },
     "metadata": {},
     "output_type": "display_data"
    }
   ],
   "source": [
    "plt.figure(figsize=(12,6))\n",
    "sns.histplot(Train[\"Espèce\"], color=\"red\")\n",
    "plt.show"
   ]
  },
  {
   "cell_type": "code",
   "execution_count": 18,
   "id": "e29be63f",
   "metadata": {
    "execution": {
     "iopub.execute_input": "2022-01-28T19:45:07.182772Z",
     "iopub.status.busy": "2022-01-28T19:45:07.182020Z",
     "iopub.status.idle": "2022-01-28T19:45:07.424243Z",
     "shell.execute_reply": "2022-01-28T19:45:07.424774Z",
     "shell.execute_reply.started": "2022-01-28T10:49:29.409903Z"
    },
    "papermill": {
     "duration": 0.314723,
     "end_time": "2022-01-28T19:45:07.424952",
     "exception": false,
     "start_time": "2022-01-28T19:45:07.110229",
     "status": "completed"
    },
    "tags": []
   },
   "outputs": [
    {
     "data": {
      "text/plain": [
       "<function matplotlib.pyplot.show(close=None, block=None)>"
      ]
     },
     "execution_count": 18,
     "metadata": {},
     "output_type": "execute_result"
    },
    {
     "data": {
      "image/png": "[encoded data removed]",
      "text/plain": [
       "<Figure size 864x432 with 1 Axes>"
      ]
     },
     "metadata": {},
     "output_type": "display_data"
    }
   ],
   "source": [
    "plt.figure(figsize=(12,6))\n",
    "sns.histplot(Test[\"Espèce\"], color=\"red\")\n",
    "plt.show"
   ]
  },
  {
   "cell_type": "markdown",
   "id": "f0a3a273",
   "metadata": {
    "papermill": {
     "duration": 0.069775,
     "end_time": "2022-01-28T19:45:07.564002",
     "exception": false,
     "start_time": "2022-01-28T19:45:07.494227",
     "status": "completed"
    },
    "tags": []
   },
   "source": [
    "__we notice that that data unbalanced which will cause some problem in the performance of the model, it may not recognize ever \"Poisson Blan\" or \"Eperlan\" or \"Parkki\" because their number is too small__\n"
   ]
  },
  {
   "cell_type": "markdown",
   "id": "03310234",
   "metadata": {
    "papermill": {
     "duration": 0.069776,
     "end_time": "2022-01-28T19:45:07.703423",
     "exception": false,
     "start_time": "2022-01-28T19:45:07.633647",
     "status": "completed"
    },
    "tags": []
   },
   "source": [
    "__the distribtion of data seems to be log_Normal or Chi-Squared__ "
   ]
  },
  {
   "cell_type": "code",
   "execution_count": 19,
   "id": "289b5c60",
   "metadata": {
    "execution": {
     "iopub.execute_input": "2022-01-28T19:45:07.858334Z",
     "iopub.status.busy": "2022-01-28T19:45:07.857632Z",
     "iopub.status.idle": "2022-01-28T19:45:07.860764Z",
     "shell.execute_reply": "2022-01-28T19:45:07.860154Z",
     "shell.execute_reply.started": "2022-01-28T10:49:29.653662Z"
    },
    "papermill": {
     "duration": 0.086136,
     "end_time": "2022-01-28T19:45:07.860919",
     "exception": false,
     "start_time": "2022-01-28T19:45:07.774783",
     "status": "completed"
    },
    "tags": []
   },
   "outputs": [],
   "source": [
    "mostlongerVer=Train.groupby(\"Espèce\").LongueurVer.max()\n",
    "mostlongerDia=Train.groupby(\"Espèce\").LongueurDia.max()\n",
    "mostlongerCro=Train.groupby(\"Espèce\").LongueurCro.max()\n",
    "mosthigher=Train.groupby(\"Espèce\").Hauteur.max()\n",
    "mostlarger=Train.groupby(\"Espèce\").Largeur.max()"
   ]
  },
  {
   "cell_type": "code",
   "execution_count": 20,
   "id": "9ddca9c2",
   "metadata": {
    "execution": {
     "iopub.execute_input": "2022-01-28T19:45:08.021884Z",
     "iopub.status.busy": "2022-01-28T19:45:08.020277Z",
     "iopub.status.idle": "2022-01-28T19:45:08.237660Z",
     "shell.execute_reply": "2022-01-28T19:45:08.237051Z",
     "shell.execute_reply.started": "2022-01-28T10:49:29.665171Z"
    },
    "papermill": {
     "duration": 0.3067,
     "end_time": "2022-01-28T19:45:08.237809",
     "exception": false,
     "start_time": "2022-01-28T19:45:07.931109",
     "status": "completed"
    },
    "tags": []
   },
   "outputs": [
    {
     "data": {
      "image/png": "[encoded data removed]",
      "text/plain": [
       "<Figure size 864x432 with 1 Axes>"
      ]
     },
     "metadata": {},
     "output_type": "display_data"
    }
   ],
   "source": [
    "plt.figure(figsize=(12,6))\n",
    "plt.ylabel(\"max vertical length\")\n",
    "mostlongerVer.plot(kind=\"bar\", color=\"turquoise\")\n",
    "plt.show()"
   ]
  },
  {
   "cell_type": "markdown",
   "id": "339e1b83",
   "metadata": {
    "papermill": {
     "duration": 0.070648,
     "end_time": "2022-01-28T19:45:08.380513",
     "exception": false,
     "start_time": "2022-01-28T19:45:08.309865",
     "status": "completed"
    },
    "tags": []
   },
   "source": [
    "here we notice that that brochet has the most longer vertical length"
   ]
  },
  {
   "cell_type": "code",
   "execution_count": 21,
   "id": "138d6c01",
   "metadata": {
    "execution": {
     "iopub.execute_input": "2022-01-28T19:45:08.540613Z",
     "iopub.status.busy": "2022-01-28T19:45:08.538066Z",
     "iopub.status.idle": "2022-01-28T19:45:08.745479Z",
     "shell.execute_reply": "2022-01-28T19:45:08.744805Z",
     "shell.execute_reply.started": "2022-01-28T10:49:29.881291Z"
    },
    "papermill": {
     "duration": 0.294337,
     "end_time": "2022-01-28T19:45:08.745661",
     "exception": false,
     "start_time": "2022-01-28T19:45:08.451324",
     "status": "completed"
    },
    "tags": []
   },
   "outputs": [
    {
     "data": {
      "image/png": "[encoded data removed]",
      "text/plain": [
       "<Figure size 864x432 with 1 Axes>"
      ]
     },
     "metadata": {},
     "output_type": "display_data"
    }
   ],
   "source": [
    "plt.figure(figsize=(12,6))\n",
    "plt.ylabel(\"max diagonal length\")\n",
    "mostlongerDia.plot(kind=\"bar\", color=\"#A085DB\")\n",
    "plt.show()"
   ]
  },
  {
   "cell_type": "markdown",
   "id": "d5673d1b",
   "metadata": {
    "papermill": {
     "duration": 0.090494,
     "end_time": "2022-01-28T19:45:08.921910",
     "exception": false,
     "start_time": "2022-01-28T19:45:08.831416",
     "status": "completed"
    },
    "tags": []
   },
   "source": [
    "also here brochet has the most longer diagonal length  "
   ]
  },
  {
   "cell_type": "code",
   "execution_count": 22,
   "id": "b83faa60",
   "metadata": {
    "execution": {
     "iopub.execute_input": "2022-01-28T19:45:09.110493Z",
     "iopub.status.busy": "2022-01-28T19:45:09.109302Z",
     "iopub.status.idle": "2022-01-28T19:45:09.349522Z",
     "shell.execute_reply": "2022-01-28T19:45:09.350233Z",
     "shell.execute_reply.started": "2022-01-28T10:49:30.101015Z"
    },
    "papermill": {
     "duration": 0.34101,
     "end_time": "2022-01-28T19:45:09.350414",
     "exception": false,
     "start_time": "2022-01-28T19:45:09.009404",
     "status": "completed"
    },
    "tags": []
   },
   "outputs": [
    {
     "data": {
      "image/png": "[encoded data removed]",
      "text/plain": [
       "<Figure size 864x432 with 1 Axes>"
      ]
     },
     "metadata": {},
     "output_type": "display_data"
    }
   ],
   "source": [
    "plt.figure(figsize=(12,6))\n",
    "plt.ylabel(\"maximum length\")\n",
    "mosthigher.plot(kind=\"bar\", color=\"#2376FA\")\n",
    "plt.show()"
   ]
  },
  {
   "cell_type": "markdown",
   "id": "a84d06c4",
   "metadata": {
    "papermill": {
     "duration": 0.073468,
     "end_time": "2022-01-28T19:45:09.506411",
     "exception": false,
     "start_time": "2022-01-28T19:45:09.432943",
     "status": "completed"
    },
    "tags": []
   },
   "source": [
    "here we notice that Dorade has  the maximum length"
   ]
  },
  {
   "cell_type": "code",
   "execution_count": 23,
   "id": "0c0c738c",
   "metadata": {
    "execution": {
     "iopub.execute_input": "2022-01-28T19:45:09.657468Z",
     "iopub.status.busy": "2022-01-28T19:45:09.656594Z",
     "iopub.status.idle": "2022-01-28T19:45:09.887942Z",
     "shell.execute_reply": "2022-01-28T19:45:09.888410Z",
     "shell.execute_reply.started": "2022-01-28T10:49:30.321726Z"
    },
    "papermill": {
     "duration": 0.309124,
     "end_time": "2022-01-28T19:45:09.888618",
     "exception": false,
     "start_time": "2022-01-28T19:45:09.579494",
     "status": "completed"
    },
    "tags": []
   },
   "outputs": [
    {
     "data": {
      "image/png": "[encoded data removed]",
      "text/plain": [
       "<Figure size 864x432 with 1 Axes>"
      ]
     },
     "metadata": {},
     "output_type": "display_data"
    }
   ],
   "source": [
    "plt.figure(figsize=(12,6))\n",
    "plt.ylabel(\"max Cross length\")\n",
    "mostlongerCro.plot(kind=\"bar\", color=\"#1B5CC4\")\n",
    "plt.show()"
   ]
  },
  {
   "cell_type": "markdown",
   "id": "304295ff",
   "metadata": {
    "papermill": {
     "duration": 0.073569,
     "end_time": "2022-01-28T19:45:10.036270",
     "exception": false,
     "start_time": "2022-01-28T19:45:09.962701",
     "status": "completed"
    },
    "tags": []
   },
   "source": [
    "and here we see that Brochet has the longest Cross length"
   ]
  },
  {
   "cell_type": "code",
   "execution_count": 24,
   "id": "518cd5b6",
   "metadata": {
    "execution": {
     "iopub.execute_input": "2022-01-28T19:45:10.193869Z",
     "iopub.status.busy": "2022-01-28T19:45:10.193180Z",
     "iopub.status.idle": "2022-01-28T19:45:10.413871Z",
     "shell.execute_reply": "2022-01-28T19:45:10.413301Z",
     "shell.execute_reply.started": "2022-01-28T10:49:30.706589Z"
    },
    "papermill": {
     "duration": 0.304512,
     "end_time": "2022-01-28T19:45:10.414043",
     "exception": false,
     "start_time": "2022-01-28T19:45:10.109531",
     "status": "completed"
    },
    "tags": []
   },
   "outputs": [
    {
     "data": {
      "image/png": "[encoded data removed]",
      "text/plain": [
       "<Figure size 864x432 with 1 Axes>"
      ]
     },
     "metadata": {},
     "output_type": "display_data"
    }
   ],
   "source": [
    "plt.figure(figsize=(12,6))\n",
    "plt.ylabel(\"Maximum diagonal width\")\n",
    "mostlarger.plot(kind=\"bar\", color=\"#76F478\")\n",
    "plt.show()"
   ]
  },
  {
   "cell_type": "markdown",
   "id": "662794e9",
   "metadata": {
    "papermill": {
     "duration": 0.076693,
     "end_time": "2022-01-28T19:45:10.566042",
     "exception": false,
     "start_time": "2022-01-28T19:45:10.489349",
     "status": "completed"
    },
    "tags": []
   },
   "source": [
    "Perche has the maximum diagonal width "
   ]
  },
  {
   "cell_type": "code",
   "execution_count": 25,
   "id": "72b66fd0",
   "metadata": {
    "execution": {
     "iopub.execute_input": "2022-01-28T19:45:10.718851Z",
     "iopub.status.busy": "2022-01-28T19:45:10.718130Z",
     "iopub.status.idle": "2022-01-28T19:45:11.170315Z",
     "shell.execute_reply": "2022-01-28T19:45:11.170866Z",
     "shell.execute_reply.started": "2022-01-28T10:49:30.930264Z"
    },
    "papermill": {
     "duration": 0.530434,
     "end_time": "2022-01-28T19:45:11.171057",
     "exception": false,
     "start_time": "2022-01-28T19:45:10.640623",
     "status": "completed"
    },
    "tags": []
   },
   "outputs": [
    {
     "data": {
      "image/png": "[encoded data removed]",
      "text/plain": [
       "<Figure size 1440x864 with 2 Axes>"
      ]
     },
     "metadata": {},
     "output_type": "display_data"
    }
   ],
   "source": [
    "plt.figure(figsize=(20,12))\n",
    "sns.heatmap(Train[numerical].corr(), annot=True, annot_kws={\"fontsize\":12}, fmt=\".2f\", vmin=-1)\n",
    "plt.show()"
   ]
  },
  {
   "cell_type": "markdown",
   "id": "5e3805fa",
   "metadata": {
    "papermill": {
     "duration": 0.077354,
     "end_time": "2022-01-28T19:45:11.325271",
     "exception": false,
     "start_time": "2022-01-28T19:45:11.247917",
     "status": "completed"
    },
    "tags": []
   },
   "source": [
    "__we notice that the dependancy between features is important__"
   ]
  },
  {
   "cell_type": "markdown",
   "id": "f381b464",
   "metadata": {
    "papermill": {
     "duration": 0.075911,
     "end_time": "2022-01-28T19:45:11.477955",
     "exception": false,
     "start_time": "2022-01-28T19:45:11.402044",
     "status": "completed"
    },
    "tags": []
   },
   "source": [
    "# Encoding"
   ]
  },
  {
   "cell_type": "markdown",
   "id": "a81bad69",
   "metadata": {
    "papermill": {
     "duration": 0.076167,
     "end_time": "2022-01-28T19:45:11.630445",
     "exception": false,
     "start_time": "2022-01-28T19:45:11.554278",
     "status": "completed"
    },
    "tags": []
   },
   "source": [
    "![](https://www.renom.jp/notebooks/tutorial/preprocessing/category_encoding/renom_cat_ordinal.png)"
   ]
  },
  {
   "cell_type": "code",
   "execution_count": 26,
   "id": "fd3d6065",
   "metadata": {
    "execution": {
     "iopub.execute_input": "2022-01-28T19:45:11.789208Z",
     "iopub.status.busy": "2022-01-28T19:45:11.788251Z",
     "iopub.status.idle": "2022-01-28T19:45:12.125738Z",
     "shell.execute_reply": "2022-01-28T19:45:12.125003Z",
     "shell.execute_reply.started": "2022-01-28T10:49:31.373539Z"
    },
    "papermill": {
     "duration": 0.419217,
     "end_time": "2022-01-28T19:45:12.125895",
     "exception": false,
     "start_time": "2022-01-28T19:45:11.706678",
     "status": "completed"
    },
    "tags": []
   },
   "outputs": [],
   "source": [
    "import category_encoders as ce\n",
    "ordenc=ce.OrdinalEncoder(cols=['Espèce'])\n",
    "Train=ordenc.fit_transform(Train)\n",
    "Test=ordenc.fit_transform(Test)"
   ]
  },
  {
   "cell_type": "markdown",
   "id": "9b3c5772",
   "metadata": {
    "papermill": {
     "duration": 0.076278,
     "end_time": "2022-01-28T19:45:12.279929",
     "exception": false,
     "start_time": "2022-01-28T19:45:12.203651",
     "status": "completed"
    },
    "tags": []
   },
   "source": [
    "# Treat Missing Value"
   ]
  },
  {
   "cell_type": "code",
   "execution_count": 27,
   "id": "f5460ddd",
   "metadata": {
    "execution": {
     "iopub.execute_input": "2022-01-28T19:45:12.439921Z",
     "iopub.status.busy": "2022-01-28T19:45:12.439199Z",
     "iopub.status.idle": "2022-01-28T19:45:12.447773Z",
     "shell.execute_reply": "2022-01-28T19:45:12.448402Z",
     "shell.execute_reply.started": "2022-01-28T10:49:31.391356Z"
    },
    "papermill": {
     "duration": 0.090489,
     "end_time": "2022-01-28T19:45:12.448607",
     "exception": false,
     "start_time": "2022-01-28T19:45:12.358118",
     "status": "completed"
    },
    "tags": []
   },
   "outputs": [
    {
     "data": {
      "text/plain": [
       "Espèce         0\n",
       "LongueurVer    1\n",
       "LongueurDia    2\n",
       "LongueurCro    0\n",
       "Hauteur        1\n",
       "Largeur        1\n",
       "Poids          0\n",
       "dtype: int64"
      ]
     },
     "execution_count": 27,
     "metadata": {},
     "output_type": "execute_result"
    }
   ],
   "source": [
    "Train.isna().sum()"
   ]
  },
  {
   "cell_type": "markdown",
   "id": "6d955cb0",
   "metadata": {
    "papermill": {
     "duration": 0.093484,
     "end_time": "2022-01-28T19:45:12.628686",
     "exception": false,
     "start_time": "2022-01-28T19:45:12.535202",
     "status": "completed"
    },
    "tags": []
   },
   "source": [
    "# Multivariate Imputation By Chained Equations (MICE)"
   ]
  },
  {
   "cell_type": "markdown",
   "id": "366218f5",
   "metadata": {
    "papermill": {
     "duration": 0.077411,
     "end_time": "2022-01-28T19:45:12.794810",
     "exception": false,
     "start_time": "2022-01-28T19:45:12.717399",
     "status": "completed"
    },
    "tags": []
   },
   "source": [
    "__we gonna use this genius method to fill the missing data__\n",
    "i will leave this link for more explanation (https://www.youtube.com/watch?v=WPiYOS3qK70)"
   ]
  },
  {
   "cell_type": "code",
   "execution_count": 28,
   "id": "1823b1c4",
   "metadata": {
    "execution": {
     "iopub.execute_input": "2022-01-28T19:45:12.965785Z",
     "iopub.status.busy": "2022-01-28T19:45:12.965084Z",
     "iopub.status.idle": "2022-01-28T19:45:13.267588Z",
     "shell.execute_reply": "2022-01-28T19:45:13.266977Z",
     "shell.execute_reply.started": "2022-01-28T10:49:31.40208Z"
    },
    "papermill": {
     "duration": 0.396253,
     "end_time": "2022-01-28T19:45:13.267743",
     "exception": false,
     "start_time": "2022-01-28T19:45:12.871490",
     "status": "completed"
    },
    "tags": []
   },
   "outputs": [],
   "source": [
    "from sklearn.experimental import enable_iterative_imputer\n",
    "from sklearn.impute import IterativeImputer\n",
    "from sklearn.ensemble import RandomForestRegressor"
   ]
  },
  {
   "cell_type": "code",
   "execution_count": 29,
   "id": "479aadf8",
   "metadata": {
    "execution": {
     "iopub.execute_input": "2022-01-28T19:45:13.425977Z",
     "iopub.status.busy": "2022-01-28T19:45:13.425240Z",
     "iopub.status.idle": "2022-01-28T19:45:13.429420Z",
     "shell.execute_reply": "2022-01-28T19:45:13.430057Z",
     "shell.execute_reply.started": "2022-01-28T10:49:31.41446Z"
    },
    "papermill": {
     "duration": 0.084938,
     "end_time": "2022-01-28T19:45:13.430268",
     "exception": false,
     "start_time": "2022-01-28T19:45:13.345330",
     "status": "completed"
    },
    "tags": []
   },
   "outputs": [],
   "source": [
    "estimator=RandomForestRegressor(max_depth=8)\n",
    "mice = IterativeImputer(estimator=estimator,random_state=11,skip_complete=True)"
   ]
  },
  {
   "cell_type": "code",
   "execution_count": 30,
   "id": "5bf7eb53",
   "metadata": {
    "execution": {
     "iopub.execute_input": "2022-01-28T19:45:13.586762Z",
     "iopub.status.busy": "2022-01-28T19:45:13.586013Z",
     "iopub.status.idle": "2022-01-28T19:45:16.624997Z",
     "shell.execute_reply": "2022-01-28T19:45:16.623840Z",
     "shell.execute_reply.started": "2022-01-28T10:49:31.428667Z"
    },
    "papermill": {
     "duration": 3.118283,
     "end_time": "2022-01-28T19:45:16.625158",
     "exception": false,
     "start_time": "2022-01-28T19:45:13.506875",
     "status": "completed"
    },
    "tags": []
   },
   "outputs": [],
   "source": [
    "impdata=mice.fit_transform(Train)\n",
    "impdata=pd.DataFrame(impdata,columns=Train.columns)"
   ]
  },
  {
   "cell_type": "code",
   "execution_count": 31,
   "id": "742f36fb",
   "metadata": {
    "execution": {
     "iopub.execute_input": "2022-01-28T19:45:16.786489Z",
     "iopub.status.busy": "2022-01-28T19:45:16.785857Z",
     "iopub.status.idle": "2022-01-28T19:45:16.788220Z",
     "shell.execute_reply": "2022-01-28T19:45:16.788741Z",
     "shell.execute_reply.started": "2022-01-28T10:49:34.375136Z"
    },
    "papermill": {
     "duration": 0.086571,
     "end_time": "2022-01-28T19:45:16.788909",
     "exception": false,
     "start_time": "2022-01-28T19:45:16.702338",
     "status": "completed"
    },
    "tags": []
   },
   "outputs": [
    {
     "data": {
      "text/plain": [
       "Espèce         0\n",
       "LongueurVer    0\n",
       "LongueurDia    0\n",
       "LongueurCro    0\n",
       "Hauteur        0\n",
       "Largeur        0\n",
       "Poids          0\n",
       "dtype: int64"
      ]
     },
     "execution_count": 31,
     "metadata": {},
     "output_type": "execute_result"
    }
   ],
   "source": [
    "impdata.isnull().sum()\n"
   ]
  },
  {
   "cell_type": "code",
   "execution_count": 32,
   "id": "4798b404",
   "metadata": {
    "execution": {
     "iopub.execute_input": "2022-01-28T19:45:16.945480Z",
     "iopub.status.busy": "2022-01-28T19:45:16.944832Z",
     "iopub.status.idle": "2022-01-28T19:45:16.949330Z",
     "shell.execute_reply": "2022-01-28T19:45:16.949932Z",
     "shell.execute_reply.started": "2022-01-28T10:49:34.385253Z"
    },
    "papermill": {
     "duration": 0.084311,
     "end_time": "2022-01-28T19:45:16.950115",
     "exception": false,
     "start_time": "2022-01-28T19:45:16.865804",
     "status": "completed"
    },
    "tags": []
   },
   "outputs": [],
   "source": [
    "Test=Test.drop(\"ID\",axis=1)"
   ]
  },
  {
   "cell_type": "markdown",
   "id": "3adeb19b",
   "metadata": {
    "papermill": {
     "duration": 0.077358,
     "end_time": "2022-01-28T19:45:17.105126",
     "exception": false,
     "start_time": "2022-01-28T19:45:17.027768",
     "status": "completed"
    },
    "tags": []
   },
   "source": [
    "__Drop outliers__"
   ]
  },
  {
   "cell_type": "code",
   "execution_count": 33,
   "id": "4fbfc575",
   "metadata": {
    "execution": {
     "iopub.execute_input": "2022-01-28T19:45:17.261265Z",
     "iopub.status.busy": "2022-01-28T19:45:17.260631Z",
     "iopub.status.idle": "2022-01-28T19:45:17.280825Z",
     "shell.execute_reply": "2022-01-28T19:45:17.280180Z",
     "shell.execute_reply.started": "2022-01-28T10:49:34.396339Z"
    },
    "papermill": {
     "duration": 0.099068,
     "end_time": "2022-01-28T19:45:17.280969",
     "exception": false,
     "start_time": "2022-01-28T19:45:17.181901",
     "status": "completed"
    },
    "tags": []
   },
   "outputs": [
    {
     "data": {
      "text/html": [
       "<div>\n",
       "<style scoped>\n",
       "    .dataframe tbody tr th:only-of-type {\n",
       "        vertical-align: middle;\n",
       "    }\n",
       "\n",
       "    .dataframe tbody tr th {\n",
       "        vertical-align: top;\n",
       "    }\n",
       "\n",
       "    .dataframe thead th {\n",
       "        text-align: right;\n",
       "    }\n",
       "</style>\n",
       "<table border=\"1\" class=\"dataframe\">\n",
       "  <thead>\n",
       "    <tr style=\"text-align: right;\">\n",
       "      <th></th>\n",
       "      <th>Espèce</th>\n",
       "      <th>LongueurVer</th>\n",
       "      <th>LongueurDia</th>\n",
       "      <th>LongueurCro</th>\n",
       "      <th>Hauteur</th>\n",
       "      <th>Largeur</th>\n",
       "      <th>Poids</th>\n",
       "    </tr>\n",
       "  </thead>\n",
       "  <tbody>\n",
       "    <tr>\n",
       "      <th>0</th>\n",
       "      <td>1.0</td>\n",
       "      <td>30.90</td>\n",
       "      <td>33.500</td>\n",
       "      <td>38.6</td>\n",
       "      <td>15.633000</td>\n",
       "      <td>5.133800</td>\n",
       "      <td>610.0</td>\n",
       "    </tr>\n",
       "    <tr>\n",
       "      <th>1</th>\n",
       "      <td>2.0</td>\n",
       "      <td>9.30</td>\n",
       "      <td>9.800</td>\n",
       "      <td>10.8</td>\n",
       "      <td>1.738800</td>\n",
       "      <td>1.047600</td>\n",
       "      <td>6.7</td>\n",
       "    </tr>\n",
       "    <tr>\n",
       "      <th>2</th>\n",
       "      <td>3.0</td>\n",
       "      <td>48.30</td>\n",
       "      <td>51.700</td>\n",
       "      <td>55.1</td>\n",
       "      <td>8.926200</td>\n",
       "      <td>6.171200</td>\n",
       "      <td>950.0</td>\n",
       "    </tr>\n",
       "    <tr>\n",
       "      <th>3</th>\n",
       "      <td>4.0</td>\n",
       "      <td>17.50</td>\n",
       "      <td>18.800</td>\n",
       "      <td>21.2</td>\n",
       "      <td>5.575600</td>\n",
       "      <td>2.904400</td>\n",
       "      <td>78.0</td>\n",
       "    </tr>\n",
       "    <tr>\n",
       "      <th>4</th>\n",
       "      <td>5.0</td>\n",
       "      <td>19.00</td>\n",
       "      <td>21.000</td>\n",
       "      <td>22.5</td>\n",
       "      <td>5.692500</td>\n",
       "      <td>3.555000</td>\n",
       "      <td>110.0</td>\n",
       "    </tr>\n",
       "    <tr>\n",
       "      <th>...</th>\n",
       "      <td>...</td>\n",
       "      <td>...</td>\n",
       "      <td>...</td>\n",
       "      <td>...</td>\n",
       "      <td>...</td>\n",
       "      <td>...</td>\n",
       "      <td>...</td>\n",
       "    </tr>\n",
       "    <tr>\n",
       "      <th>118</th>\n",
       "      <td>5.0</td>\n",
       "      <td>32.00</td>\n",
       "      <td>34.500</td>\n",
       "      <td>36.5</td>\n",
       "      <td>10.256500</td>\n",
       "      <td>6.387500</td>\n",
       "      <td>556.0</td>\n",
       "    </tr>\n",
       "    <tr>\n",
       "      <th>119</th>\n",
       "      <td>1.0</td>\n",
       "      <td>0.00</td>\n",
       "      <td>33.500</td>\n",
       "      <td>38.6</td>\n",
       "      <td>15.633000</td>\n",
       "      <td>5.133800</td>\n",
       "      <td>570.0</td>\n",
       "    </tr>\n",
       "    <tr>\n",
       "      <th>120</th>\n",
       "      <td>2.0</td>\n",
       "      <td>9.30</td>\n",
       "      <td>9.800</td>\n",
       "      <td>0.0</td>\n",
       "      <td>1.738800</td>\n",
       "      <td>1.110196</td>\n",
       "      <td>5.7</td>\n",
       "    </tr>\n",
       "    <tr>\n",
       "      <th>121</th>\n",
       "      <td>3.0</td>\n",
       "      <td>46.36</td>\n",
       "      <td>50.102</td>\n",
       "      <td>55.1</td>\n",
       "      <td>8.926200</td>\n",
       "      <td>6.171200</td>\n",
       "      <td>400.0</td>\n",
       "    </tr>\n",
       "    <tr>\n",
       "      <th>122</th>\n",
       "      <td>4.0</td>\n",
       "      <td>17.50</td>\n",
       "      <td>17.724</td>\n",
       "      <td>21.2</td>\n",
       "      <td>4.849344</td>\n",
       "      <td>0.000000</td>\n",
       "      <td>50.0</td>\n",
       "    </tr>\n",
       "  </tbody>\n",
       "</table>\n",
       "<p>121 rows × 7 columns</p>\n",
       "</div>"
      ],
      "text/plain": [
       "     Espèce  LongueurVer  LongueurDia  LongueurCro    Hauteur   Largeur  Poids\n",
       "0       1.0        30.90       33.500         38.6  15.633000  5.133800  610.0\n",
       "1       2.0         9.30        9.800         10.8   1.738800  1.047600    6.7\n",
       "2       3.0        48.30       51.700         55.1   8.926200  6.171200  950.0\n",
       "3       4.0        17.50       18.800         21.2   5.575600  2.904400   78.0\n",
       "4       5.0        19.00       21.000         22.5   5.692500  3.555000  110.0\n",
       "..      ...          ...          ...          ...        ...       ...    ...\n",
       "118     5.0        32.00       34.500         36.5  10.256500  6.387500  556.0\n",
       "119     1.0         0.00       33.500         38.6  15.633000  5.133800  570.0\n",
       "120     2.0         9.30        9.800          0.0   1.738800  1.110196    5.7\n",
       "121     3.0        46.36       50.102         55.1   8.926200  6.171200  400.0\n",
       "122     4.0        17.50       17.724         21.2   4.849344  0.000000   50.0\n",
       "\n",
       "[121 rows x 7 columns]"
      ]
     },
     "execution_count": 33,
     "metadata": {},
     "output_type": "execute_result"
    }
   ],
   "source": [
    "\n",
    "impdata.drop([83,53],axis=0)"
   ]
  },
  {
   "cell_type": "markdown",
   "id": "a1cbeba6",
   "metadata": {
    "papermill": {
     "duration": 0.077046,
     "end_time": "2022-01-28T19:45:17.435879",
     "exception": false,
     "start_time": "2022-01-28T19:45:17.358833",
     "status": "completed"
    },
    "tags": []
   },
   "source": [
    "# Modeling"
   ]
  },
  {
   "cell_type": "markdown",
   "id": "d2e96ac3",
   "metadata": {
    "papermill": {
     "duration": 0.094133,
     "end_time": "2022-01-28T19:45:17.610015",
     "exception": false,
     "start_time": "2022-01-28T19:45:17.515882",
     "status": "completed"
    },
    "tags": []
   },
   "source": [
    "__Linear_Regression__"
   ]
  },
  {
   "cell_type": "code",
   "execution_count": 34,
   "id": "08942ad3",
   "metadata": {
    "execution": {
     "iopub.execute_input": "2022-01-28T19:45:17.798901Z",
     "iopub.status.busy": "2022-01-28T19:45:17.798168Z",
     "iopub.status.idle": "2022-01-28T19:45:17.803111Z",
     "shell.execute_reply": "2022-01-28T19:45:17.803682Z",
     "shell.execute_reply.started": "2022-01-28T10:49:34.423883Z"
    },
    "papermill": {
     "duration": 0.101055,
     "end_time": "2022-01-28T19:45:17.803868",
     "exception": false,
     "start_time": "2022-01-28T19:45:17.702813",
     "status": "completed"
    },
    "tags": []
   },
   "outputs": [],
   "source": [
    "from sklearn.linear_model import LinearRegression\n",
    "LR=LinearRegression()\n",
    "X=impdata.drop([\"Poids\"], axis=1)\n",
    "Y=impdata[\"Poids\"]"
   ]
  },
  {
   "cell_type": "code",
   "execution_count": 35,
   "id": "b8df3907",
   "metadata": {
    "execution": {
     "iopub.execute_input": "2022-01-28T19:45:17.962008Z",
     "iopub.status.busy": "2022-01-28T19:45:17.961327Z",
     "iopub.status.idle": "2022-01-28T19:45:17.966115Z",
     "shell.execute_reply": "2022-01-28T19:45:17.966679Z",
     "shell.execute_reply.started": "2022-01-28T10:49:34.430731Z"
    },
    "papermill": {
     "duration": 0.085788,
     "end_time": "2022-01-28T19:45:17.966855",
     "exception": false,
     "start_time": "2022-01-28T19:45:17.881067",
     "status": "completed"
    },
    "tags": []
   },
   "outputs": [],
   "source": [
    "from sklearn.model_selection import train_test_split\n",
    "xtrain,xtest,ytrain,ytest=train_test_split(X,Y,test_size=0.2)"
   ]
  },
  {
   "cell_type": "code",
   "execution_count": 36,
   "id": "893f72c8",
   "metadata": {
    "execution": {
     "iopub.execute_input": "2022-01-28T19:45:18.124734Z",
     "iopub.status.busy": "2022-01-28T19:45:18.124072Z",
     "iopub.status.idle": "2022-01-28T19:45:18.151238Z",
     "shell.execute_reply": "2022-01-28T19:45:18.150604Z",
     "shell.execute_reply.started": "2022-01-28T10:49:34.445094Z"
    },
    "papermill": {
     "duration": 0.10725,
     "end_time": "2022-01-28T19:45:18.151380",
     "exception": false,
     "start_time": "2022-01-28T19:45:18.044130",
     "status": "completed"
    },
    "tags": []
   },
   "outputs": [
    {
     "data": {
      "text/plain": [
       "143.4686622857003"
      ]
     },
     "execution_count": 36,
     "metadata": {},
     "output_type": "execute_result"
    }
   ],
   "source": [
    "LR.fit(xtrain,ytrain)\n",
    "ypred=LR.predict(xtest)\n",
    "from sklearn.metrics import mean_squared_error\n",
    "np.sqrt(mean_squared_error(ytest, ypred))"
   ]
  },
  {
   "cell_type": "markdown",
   "id": "096fec7a",
   "metadata": {
    "papermill": {
     "duration": 0.077201,
     "end_time": "2022-01-28T19:45:18.306575",
     "exception": false,
     "start_time": "2022-01-28T19:45:18.229374",
     "status": "completed"
    },
    "tags": []
   },
   "source": [
    "here we notice that the error is hight"
   ]
  },
  {
   "cell_type": "markdown",
   "id": "c650f254",
   "metadata": {
    "papermill": {
     "duration": 0.077365,
     "end_time": "2022-01-28T19:45:18.462801",
     "exception": false,
     "start_time": "2022-01-28T19:45:18.385436",
     "status": "completed"
    },
    "tags": []
   },
   "source": [
    "__Evaluation by cross_val_score__"
   ]
  },
  {
   "cell_type": "code",
   "execution_count": 37,
   "id": "ea9cf987",
   "metadata": {
    "execution": {
     "iopub.execute_input": "2022-01-28T19:45:18.648450Z",
     "iopub.status.busy": "2022-01-28T19:45:18.647366Z",
     "iopub.status.idle": "2022-01-28T19:45:18.674232Z",
     "shell.execute_reply": "2022-01-28T19:45:18.674832Z",
     "shell.execute_reply.started": "2022-01-28T10:49:34.462139Z"
    },
    "papermill": {
     "duration": 0.127971,
     "end_time": "2022-01-28T19:45:18.675022",
     "exception": false,
     "start_time": "2022-01-28T19:45:18.547051",
     "status": "completed"
    },
    "tags": []
   },
   "outputs": [
    {
     "data": {
      "text/plain": [
       "array([ 0.65571763,  0.89587002,  0.83064912, -2.45775488,  0.70309682])"
      ]
     },
     "execution_count": 37,
     "metadata": {},
     "output_type": "execute_result"
    }
   ],
   "source": [
    "from sklearn.model_selection import cross_val_score\n",
    "cvscore = cross_val_score(LR, xtrain, ytrain, cv=5)\n",
    "cvscore"
   ]
  },
  {
   "cell_type": "code",
   "execution_count": 38,
   "id": "b5aa9441",
   "metadata": {
    "execution": {
     "iopub.execute_input": "2022-01-28T19:45:18.837640Z",
     "iopub.status.busy": "2022-01-28T19:45:18.836636Z",
     "iopub.status.idle": "2022-01-28T19:45:18.842278Z",
     "shell.execute_reply": "2022-01-28T19:45:18.842923Z",
     "shell.execute_reply.started": "2022-01-28T10:49:34.496597Z"
    },
    "papermill": {
     "duration": 0.08896,
     "end_time": "2022-01-28T19:45:18.843115",
     "exception": false,
     "start_time": "2022-01-28T19:45:18.754155",
     "status": "completed"
    },
    "tags": []
   },
   "outputs": [
    {
     "data": {
      "text/plain": [
       "0.12551574226102197"
      ]
     },
     "execution_count": 38,
     "metadata": {},
     "output_type": "execute_result"
    }
   ],
   "source": [
    "cvscore.mean()"
   ]
  },
  {
   "cell_type": "code",
   "execution_count": 39,
   "id": "e54743b8",
   "metadata": {
    "execution": {
     "iopub.execute_input": "2022-01-28T19:45:19.003791Z",
     "iopub.status.busy": "2022-01-28T19:45:19.002589Z",
     "iopub.status.idle": "2022-01-28T19:45:19.008503Z",
     "shell.execute_reply": "2022-01-28T19:45:19.009108Z",
     "shell.execute_reply.started": "2022-01-28T10:49:34.503583Z"
    },
    "papermill": {
     "duration": 0.088052,
     "end_time": "2022-01-28T19:45:19.009288",
     "exception": false,
     "start_time": "2022-01-28T19:45:18.921236",
     "status": "completed"
    },
    "tags": []
   },
   "outputs": [
    {
     "data": {
      "text/plain": [
       "1.2945006638322303"
      ]
     },
     "execution_count": 39,
     "metadata": {},
     "output_type": "execute_result"
    }
   ],
   "source": [
    "cvscore.std()"
   ]
  },
  {
   "cell_type": "markdown",
   "id": "e90b6d62",
   "metadata": {
    "papermill": {
     "duration": 0.095685,
     "end_time": "2022-01-28T19:45:19.193189",
     "exception": false,
     "start_time": "2022-01-28T19:45:19.097504",
     "status": "completed"
    },
    "tags": []
   },
   "source": [
    "Score= 0.58 +- 0.36"
   ]
  },
  {
   "cell_type": "markdown",
   "id": "58ce76df",
   "metadata": {
    "papermill": {
     "duration": 0.093336,
     "end_time": "2022-01-28T19:45:19.382202",
     "exception": false,
     "start_time": "2022-01-28T19:45:19.288866",
     "status": "completed"
    },
    "tags": []
   },
   "source": [
    "it's a bad model "
   ]
  },
  {
   "cell_type": "markdown",
   "id": "23dc1ea7",
   "metadata": {
    "papermill": {
     "duration": 0.079038,
     "end_time": "2022-01-28T19:45:19.539456",
     "exception": false,
     "start_time": "2022-01-28T19:45:19.460418",
     "status": "completed"
    },
    "tags": []
   },
   "source": [
    "__Lasso__"
   ]
  },
  {
   "cell_type": "code",
   "execution_count": 40,
   "id": "0b00c23b",
   "metadata": {
    "execution": {
     "iopub.execute_input": "2022-01-28T19:45:19.700774Z",
     "iopub.status.busy": "2022-01-28T19:45:19.699726Z",
     "iopub.status.idle": "2022-01-28T19:45:19.714559Z",
     "shell.execute_reply": "2022-01-28T19:45:19.715133Z",
     "shell.execute_reply.started": "2022-01-28T10:49:34.516185Z"
    },
    "papermill": {
     "duration": 0.097252,
     "end_time": "2022-01-28T19:45:19.715308",
     "exception": false,
     "start_time": "2022-01-28T19:45:19.618056",
     "status": "completed"
    },
    "tags": []
   },
   "outputs": [
    {
     "data": {
      "text/plain": [
       "143.82837329673097"
      ]
     },
     "execution_count": 40,
     "metadata": {},
     "output_type": "execute_result"
    }
   ],
   "source": [
    "from sklearn.linear_model import Lasso\n",
    "Ls=Lasso()\n",
    "Ls.fit(xtrain,ytrain)\n",
    "ypredd=Ls.predict(xtest)\n",
    "np.sqrt(mean_squared_error(ytest, ypredd))"
   ]
  },
  {
   "cell_type": "code",
   "execution_count": 41,
   "id": "a6f9016a",
   "metadata": {
    "execution": {
     "iopub.execute_input": "2022-01-28T19:45:19.903434Z",
     "iopub.status.busy": "2022-01-28T19:45:19.902407Z",
     "iopub.status.idle": "2022-01-28T19:45:19.942296Z",
     "shell.execute_reply": "2022-01-28T19:45:19.942922Z",
     "shell.execute_reply.started": "2022-01-28T10:49:34.531971Z"
    },
    "papermill": {
     "duration": 0.141467,
     "end_time": "2022-01-28T19:45:19.943160",
     "exception": false,
     "start_time": "2022-01-28T19:45:19.801693",
     "status": "completed"
    },
    "tags": []
   },
   "outputs": [
    {
     "name": "stderr",
     "output_type": "stream",
     "text": [
      "/opt/conda/lib/python3.7/site-packages/sklearn/linear_model/_coordinate_descent.py:531: ConvergenceWarning: Objective did not converge. You might want to increase the number of iterations. Duality gap: 144292.62516429042, tolerance: 1000.8816603037978\n",
      "  positive)\n",
      "/opt/conda/lib/python3.7/site-packages/sklearn/linear_model/_coordinate_descent.py:531: ConvergenceWarning: Objective did not converge. You might want to increase the number of iterations. Duality gap: 414758.1270861208, tolerance: 1238.4303647341774\n",
      "  positive)\n"
     ]
    },
    {
     "data": {
      "text/plain": [
       "array([ 0.65494474,  0.89547502,  0.83197352, -0.54839783,  0.83302704])"
      ]
     },
     "execution_count": 41,
     "metadata": {},
     "output_type": "execute_result"
    }
   ],
   "source": [
    "from sklearn.model_selection import cross_val_score\n",
    "cvscore = cross_val_score(Ls, xtrain, ytrain, cv=5)\n",
    "cvscore"
   ]
  },
  {
   "cell_type": "code",
   "execution_count": 42,
   "id": "6604ccb8",
   "metadata": {
    "execution": {
     "iopub.execute_input": "2022-01-28T19:45:20.110871Z",
     "iopub.status.busy": "2022-01-28T19:45:20.108230Z",
     "iopub.status.idle": "2022-01-28T19:45:20.114039Z",
     "shell.execute_reply": "2022-01-28T19:45:20.114649Z",
     "shell.execute_reply.started": "2022-01-28T10:49:34.568312Z"
    },
    "papermill": {
     "duration": 0.091446,
     "end_time": "2022-01-28T19:45:20.114825",
     "exception": false,
     "start_time": "2022-01-28T19:45:20.023379",
     "status": "completed"
    },
    "tags": []
   },
   "outputs": [
    {
     "data": {
      "text/plain": [
       "0.5334044991971576"
      ]
     },
     "execution_count": 42,
     "metadata": {},
     "output_type": "execute_result"
    }
   ],
   "source": [
    "cvscore.mean()"
   ]
  },
  {
   "cell_type": "code",
   "execution_count": 43,
   "id": "b9446562",
   "metadata": {
    "execution": {
     "iopub.execute_input": "2022-01-28T19:45:20.279301Z",
     "iopub.status.busy": "2022-01-28T19:45:20.278275Z",
     "iopub.status.idle": "2022-01-28T19:45:20.283630Z",
     "shell.execute_reply": "2022-01-28T19:45:20.284259Z",
     "shell.execute_reply.started": "2022-01-28T10:49:34.575523Z"
    },
    "papermill": {
     "duration": 0.089518,
     "end_time": "2022-01-28T19:45:20.284442",
     "exception": false,
     "start_time": "2022-01-28T19:45:20.194924",
     "status": "completed"
    },
    "tags": []
   },
   "outputs": [
    {
     "data": {
      "text/plain": [
       "0.5468236465393115"
      ]
     },
     "execution_count": 43,
     "metadata": {},
     "output_type": "execute_result"
    }
   ],
   "source": [
    "cvscore.std()"
   ]
  },
  {
   "cell_type": "markdown",
   "id": "10f3a7c3",
   "metadata": {
    "papermill": {
     "duration": 0.081213,
     "end_time": "2022-01-28T19:45:20.446133",
     "exception": false,
     "start_time": "2022-01-28T19:45:20.364920",
     "status": "completed"
    },
    "tags": []
   },
   "source": [
    "score=0.30 +- 0.9 "
   ]
  },
  {
   "cell_type": "markdown",
   "id": "76253868",
   "metadata": {
    "papermill": {
     "duration": 0.086043,
     "end_time": "2022-01-28T19:45:20.612410",
     "exception": false,
     "start_time": "2022-01-28T19:45:20.526367",
     "status": "completed"
    },
    "tags": []
   },
   "source": [
    "the error getting bigger , it's a bad model"
   ]
  },
  {
   "cell_type": "markdown",
   "id": "fae4dac0",
   "metadata": {
    "papermill": {
     "duration": 0.081083,
     "end_time": "2022-01-28T19:45:20.774133",
     "exception": false,
     "start_time": "2022-01-28T19:45:20.693050",
     "status": "completed"
    },
    "tags": []
   },
   "source": [
    "__DecisionTreeRegressor__"
   ]
  },
  {
   "cell_type": "code",
   "execution_count": 44,
   "id": "0b0cd778",
   "metadata": {
    "execution": {
     "iopub.execute_input": "2022-01-28T19:45:20.945084Z",
     "iopub.status.busy": "2022-01-28T19:45:20.944305Z",
     "iopub.status.idle": "2022-01-28T19:45:20.952003Z",
     "shell.execute_reply": "2022-01-28T19:45:20.952450Z",
     "shell.execute_reply.started": "2022-01-28T10:49:34.58728Z"
    },
    "papermill": {
     "duration": 0.096424,
     "end_time": "2022-01-28T19:45:20.952657",
     "exception": false,
     "start_time": "2022-01-28T19:45:20.856233",
     "status": "completed"
    },
    "tags": []
   },
   "outputs": [
    {
     "data": {
      "text/plain": [
       "69.51693606596885"
      ]
     },
     "execution_count": 44,
     "metadata": {},
     "output_type": "execute_result"
    }
   ],
   "source": [
    "from sklearn.tree import DecisionTreeRegressor\n",
    "mytre=DecisionTreeRegressor()\n",
    "mytre.fit(xtrain,ytrain)\n",
    "ypreeed=mytre.predict(xtest)\n",
    "np.sqrt(mean_squared_error(ytest, ypreeed))"
   ]
  },
  {
   "cell_type": "markdown",
   "id": "221a4b0b",
   "metadata": {
    "papermill": {
     "duration": 0.09811,
     "end_time": "2022-01-28T19:45:21.133629",
     "exception": false,
     "start_time": "2022-01-28T19:45:21.035519",
     "status": "completed"
    },
    "tags": []
   },
   "source": [
    "__here we are going to play a little bit with hyperparametre of the decision_tree_regressor__ "
   ]
  },
  {
   "cell_type": "markdown",
   "id": "0f485566",
   "metadata": {
    "papermill": {
     "duration": 0.085749,
     "end_time": "2022-01-28T19:45:21.318030",
     "exception": false,
     "start_time": "2022-01-28T19:45:21.232281",
     "status": "completed"
    },
    "tags": []
   },
   "source": [
    "![](https://d3i71xaburhd42.cloudfront.net/dd63caefa19ef740a3193f638c14ad5540981d34/2-Table1-1.png)"
   ]
  },
  {
   "cell_type": "code",
   "execution_count": 45,
   "id": "e004927e",
   "metadata": {
    "execution": {
     "iopub.execute_input": "2022-01-28T19:45:21.488213Z",
     "iopub.status.busy": "2022-01-28T19:45:21.487115Z",
     "iopub.status.idle": "2022-01-28T19:45:21.494472Z",
     "shell.execute_reply": "2022-01-28T19:45:21.495084Z",
     "shell.execute_reply.started": "2022-01-28T10:49:34.603133Z"
    },
    "papermill": {
     "duration": 0.096064,
     "end_time": "2022-01-28T19:45:21.495257",
     "exception": false,
     "start_time": "2022-01-28T19:45:21.399193",
     "status": "completed"
    },
    "tags": []
   },
   "outputs": [
    {
     "data": {
      "text/plain": [
       "92.3314682425259"
      ]
     },
     "execution_count": 45,
     "metadata": {},
     "output_type": "execute_result"
    }
   ],
   "source": [
    "from sklearn.tree import DecisionTreeRegressor\n",
    "mytre=DecisionTreeRegressor(max_depth=5,min_samples_split=3)\n",
    "mytre.fit(xtrain,ytrain)\n",
    "ypreeed=mytre.predict(xtest)\n",
    "np.sqrt(mean_squared_error(ytest, ypreeed))"
   ]
  },
  {
   "cell_type": "markdown",
   "id": "2a0490e2",
   "metadata": {
    "papermill": {
     "duration": 0.080568,
     "end_time": "2022-01-28T19:45:21.658429",
     "exception": false,
     "start_time": "2022-01-28T19:45:21.577861",
     "status": "completed"
    },
    "tags": []
   },
   "source": [
    "__we notice that win minimize the error__ "
   ]
  },
  {
   "cell_type": "markdown",
   "id": "73585ae1",
   "metadata": {
    "papermill": {
     "duration": 0.08682,
     "end_time": "2022-01-28T19:45:21.826070",
     "exception": false,
     "start_time": "2022-01-28T19:45:21.739250",
     "status": "completed"
    },
    "tags": []
   },
   "source": [
    "Let's play again"
   ]
  },
  {
   "cell_type": "code",
   "execution_count": 46,
   "id": "9003baec",
   "metadata": {
    "execution": {
     "iopub.execute_input": "2022-01-28T19:45:21.993958Z",
     "iopub.status.busy": "2022-01-28T19:45:21.992935Z",
     "iopub.status.idle": "2022-01-28T19:45:22.004510Z",
     "shell.execute_reply": "2022-01-28T19:45:22.005120Z",
     "shell.execute_reply.started": "2022-01-28T10:49:34.617071Z"
    },
    "papermill": {
     "duration": 0.097034,
     "end_time": "2022-01-28T19:45:22.005313",
     "exception": false,
     "start_time": "2022-01-28T19:45:21.908279",
     "status": "completed"
    },
    "tags": []
   },
   "outputs": [
    {
     "data": {
      "text/plain": [
       "83.24451590053357"
      ]
     },
     "execution_count": 46,
     "metadata": {},
     "output_type": "execute_result"
    }
   ],
   "source": [
    "from sklearn.tree import DecisionTreeRegressor\n",
    "mytree=DecisionTreeRegressor(max_depth=4,min_samples_leaf=2, min_samples_split=5)\n",
    "mytree.fit(xtrain,ytrain)\n",
    "preed=mytree.predict(xtest)\n",
    "np.sqrt(mean_squared_error(ytest, preed))"
   ]
  },
  {
   "cell_type": "code",
   "execution_count": null,
   "id": "6a2611c7",
   "metadata": {
    "papermill": {
     "duration": 0.099057,
     "end_time": "2022-01-28T19:45:22.193679",
     "exception": false,
     "start_time": "2022-01-28T19:45:22.094622",
     "status": "completed"
    },
    "tags": []
   },
   "outputs": [],
   "source": []
  }
 ],
 "metadata": {
  "kernelspec": {
   "display_name": "Python 3",
   "language": "python",
   "name": "python3"
  },
  "language_info": {
   "codemirror_mode": {
    "name": "ipython",
    "version": 3
   },
   "file_extension": ".py",
   "mimetype": "text/x-python",
   "name": "python",
   "nbconvert_exporter": "python",
   "pygments_lexer": "ipython3",
   "version": "3.7.12"
  },
  "papermill": {
   "default_parameters": {},
   "duration": 34.574229,
   "end_time": "2022-01-28T19:45:23.104130",
   "environment_variables": {},
   "exception": null,
   "input_path": "__notebook__.ipynb",
   "output_path": "__notebook__.ipynb",
   "parameters": {},
   "start_time": "2022-01-28T19:44:48.529901",
   "version": "2.3.3"
  }
 },
 "nbformat": 4,
 "nbformat_minor": 5
}
